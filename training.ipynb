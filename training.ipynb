{
 "cells": [
  {
   "cell_type": "code",
   "execution_count": 2,
   "metadata": {},
   "outputs": [],
   "source": [
    "from sklearn.model_selection import train_test_split, ShuffleSplit, GridSearchCV\n",
    "from sklearn.ensemble import RandomForestRegressor\n",
    "from sklearn.metrics import mean_absolute_error, mean_squared_error\n",
    "import numpy as np\n",
    "from pickle import dump"
   ]
  },
  {
   "cell_type": "markdown",
   "metadata": {},
   "source": [
    "# Load Data"
   ]
  },
  {
   "cell_type": "code",
   "execution_count": 3,
   "metadata": {},
   "outputs": [],
   "source": [
    "dataset = []\n",
    "with open(\"to_train_bak.txt\", \"r\") as f:\n",
    "    for line in f.readlines():\n",
    "        dataset.append([float(a) for a in line.strip().split(\" \")])\n",
    "dataset = np.array(dataset, dtype=np.float32)"
   ]
  },
  {
   "cell_type": "code",
   "execution_count": 25,
   "metadata": {},
   "outputs": [],
   "source": [
    "g_x = dataset[:, :3]\n",
    "g_y = dataset[:, 3]\n",
    "a_x = dataset[:, 4:7]\n",
    "a_y = dataset[:, 7]"
   ]
  },
  {
   "cell_type": "code",
   "execution_count": 26,
   "metadata": {},
   "outputs": [],
   "source": [
    "g_x_train, g_x_test, g_y_train, g_y_test = train_test_split(g_x, g_y, shuffle=True, test_size=0.2)\n",
    "a_x_train, a_x_test, a_y_train, a_y_test = train_test_split(a_x, a_y, shuffle=True, test_size=0.2)"
   ]
  },
  {
   "cell_type": "markdown",
   "metadata": {},
   "source": [
    "# Prepare Training"
   ]
  },
  {
   "cell_type": "code",
   "execution_count": 27,
   "metadata": {},
   "outputs": [],
   "source": [
    "params = {\n",
    " 'criterion': ['mse'],\n",
    " 'max_features': ['auto', 'sqrt'],\n",
    "    'max_depth': [10, 21],\n",
    " 'min_samples_leaf': [2, 4, 8],\n",
    " 'min_samples_split': [3, 6, 9],\n",
    " 'n_estimators': [10, 50, 100],\n",
    " 'random_state': [42],}"
   ]
  },
  {
   "cell_type": "code",
   "execution_count": 28,
   "metadata": {},
   "outputs": [],
   "source": [
    "cv_g = ShuffleSplit(g_x_train.shape[0], test_size=0.2, random_state=42)\n",
    "cv_a = ShuffleSplit(a_x_train.shape[0], test_size=0.2, random_state=42)"
   ]
  },
  {
   "cell_type": "code",
   "execution_count": 29,
   "metadata": {},
   "outputs": [],
   "source": [
    "regressor_g = GridSearchCV(estimator=RandomForestRegressor(), cv=cv_g, param_grid=params, verbose=2, n_jobs=50)\n",
    "regressor_a = GridSearchCV(estimator=RandomForestRegressor(), cv=cv_a, param_grid=params, verbose=2, n_jobs=50)"
   ]
  },
  {
   "cell_type": "markdown",
   "metadata": {},
   "source": [
    "# Training"
   ]
  },
  {
   "cell_type": "code",
   "execution_count": 30,
   "metadata": {},
   "outputs": [
    {
     "name": "stdout",
     "output_type": "stream",
     "text": [
      "Fitting 1325 folds for each of 108 candidates, totalling 143100 fits\n"
     ]
    },
    {
     "name": "stderr",
     "output_type": "stream",
     "text": [
      "[Parallel(n_jobs=50)]: Using backend LokyBackend with 50 concurrent workers.\n",
      "[Parallel(n_jobs=50)]: Done  62 tasks      | elapsed:    3.2s\n",
      "[Parallel(n_jobs=50)]: Done 265 tasks      | elapsed:    4.9s\n",
      "[Parallel(n_jobs=50)]: Done 548 tasks      | elapsed:    6.1s\n",
      "[Parallel(n_jobs=50)]: Done 913 tasks      | elapsed:    7.7s\n",
      "[Parallel(n_jobs=50)]: Done 1358 tasks      | elapsed:   10.2s\n",
      "[Parallel(n_jobs=50)]: Done 1885 tasks      | elapsed:   20.5s\n",
      "[Parallel(n_jobs=50)]: Done 2492 tasks      | elapsed:   32.0s\n",
      "[Parallel(n_jobs=50)]: Done 3181 tasks      | elapsed:   54.9s\n",
      "[Parallel(n_jobs=50)]: Done 3950 tasks      | elapsed:  1.4min\n",
      "[Parallel(n_jobs=50)]: Done 4801 tasks      | elapsed:  1.5min\n",
      "[Parallel(n_jobs=50)]: Done 5732 tasks      | elapsed:  1.6min\n",
      "[Parallel(n_jobs=50)]: Done 6745 tasks      | elapsed:  2.0min\n",
      "[Parallel(n_jobs=50)]: Done 7838 tasks      | elapsed:  2.7min\n",
      "[Parallel(n_jobs=50)]: Done 9013 tasks      | elapsed:  2.8min\n",
      "[Parallel(n_jobs=50)]: Done 10268 tasks      | elapsed:  3.1min\n",
      "[Parallel(n_jobs=50)]: Done 11605 tasks      | elapsed:  3.8min\n",
      "[Parallel(n_jobs=50)]: Done 13022 tasks      | elapsed:  4.1min\n",
      "[Parallel(n_jobs=50)]: Done 14521 tasks      | elapsed:  4.5min\n",
      "[Parallel(n_jobs=50)]: Done 16100 tasks      | elapsed:  5.3min\n",
      "[Parallel(n_jobs=50)]: Done 17761 tasks      | elapsed:  5.5min\n",
      "[Parallel(n_jobs=50)]: Done 19502 tasks      | elapsed:  6.3min\n",
      "[Parallel(n_jobs=50)]: Done 21325 tasks      | elapsed:  6.6min\n",
      "[Parallel(n_jobs=50)]: Done 23228 tasks      | elapsed:  7.4min\n",
      "[Parallel(n_jobs=50)]: Done 25213 tasks      | elapsed:  7.9min\n",
      "[Parallel(n_jobs=50)]: Done 27278 tasks      | elapsed:  8.6min\n",
      "[Parallel(n_jobs=50)]: Done 29425 tasks      | elapsed:  9.1min\n",
      "[Parallel(n_jobs=50)]: Done 31652 tasks      | elapsed: 10.0min\n",
      "[Parallel(n_jobs=50)]: Done 33961 tasks      | elapsed: 10.4min\n",
      "[Parallel(n_jobs=50)]: Done 36350 tasks      | elapsed: 11.3min\n",
      "[Parallel(n_jobs=50)]: Done 38821 tasks      | elapsed: 11.8min\n",
      "[Parallel(n_jobs=50)]: Done 41372 tasks      | elapsed: 12.3min\n",
      "[Parallel(n_jobs=50)]: Done 44005 tasks      | elapsed: 13.1min\n",
      "[Parallel(n_jobs=50)]: Done 46718 tasks      | elapsed: 13.6min\n",
      "[Parallel(n_jobs=50)]: Done 49513 tasks      | elapsed: 14.2min\n",
      "[Parallel(n_jobs=50)]: Done 52388 tasks      | elapsed: 15.0min\n",
      "[Parallel(n_jobs=50)]: Done 55345 tasks      | elapsed: 15.7min\n",
      "[Parallel(n_jobs=50)]: Done 58382 tasks      | elapsed: 16.2min\n",
      "[Parallel(n_jobs=50)]: Done 61501 tasks      | elapsed: 16.9min\n",
      "[Parallel(n_jobs=50)]: Done 64700 tasks      | elapsed: 17.6min\n",
      "[Parallel(n_jobs=50)]: Done 67981 tasks      | elapsed: 18.5min\n",
      "[Parallel(n_jobs=50)]: Done 71342 tasks      | elapsed: 19.2min\n",
      "[Parallel(n_jobs=50)]: Done 74785 tasks      | elapsed: 20.2min\n",
      "[Parallel(n_jobs=50)]: Done 78308 tasks      | elapsed: 21.3min\n",
      "[Parallel(n_jobs=50)]: Done 81913 tasks      | elapsed: 22.5min\n",
      "[Parallel(n_jobs=50)]: Done 85598 tasks      | elapsed: 23.7min\n",
      "[Parallel(n_jobs=50)]: Done 89365 tasks      | elapsed: 24.9min\n",
      "[Parallel(n_jobs=50)]: Done 93212 tasks      | elapsed: 26.1min\n",
      "[Parallel(n_jobs=50)]: Done 97141 tasks      | elapsed: 27.3min\n",
      "[Parallel(n_jobs=50)]: Done 101150 tasks      | elapsed: 28.5min\n",
      "[Parallel(n_jobs=50)]: Done 105241 tasks      | elapsed: 29.7min\n",
      "[Parallel(n_jobs=50)]: Done 109412 tasks      | elapsed: 30.9min\n",
      "[Parallel(n_jobs=50)]: Done 113665 tasks      | elapsed: 31.9min\n",
      "[Parallel(n_jobs=50)]: Done 117998 tasks      | elapsed: 33.0min\n",
      "[Parallel(n_jobs=50)]: Done 122413 tasks      | elapsed: 34.1min\n",
      "[Parallel(n_jobs=50)]: Done 126908 tasks      | elapsed: 35.2min\n",
      "[Parallel(n_jobs=50)]: Done 131485 tasks      | elapsed: 36.3min\n",
      "[Parallel(n_jobs=50)]: Done 136142 tasks      | elapsed: 37.2min\n",
      "[Parallel(n_jobs=50)]: Done 140881 tasks      | elapsed: 38.2min\n",
      "[Parallel(n_jobs=50)]: Done 143100 out of 143100 | elapsed: 38.9min finished\n",
      "[Parallel(n_jobs=50)]: Using backend LokyBackend with 50 concurrent workers.\n"
     ]
    },
    {
     "name": "stdout",
     "output_type": "stream",
     "text": [
      "Fitting 1325 folds for each of 108 candidates, totalling 143100 fits\n"
     ]
    },
    {
     "name": "stderr",
     "output_type": "stream",
     "text": [
      "[Parallel(n_jobs=50)]: Done  62 tasks      | elapsed:    0.4s\n",
      "[Parallel(n_jobs=50)]: Done 430 tasks      | elapsed:    2.1s\n",
      "[Parallel(n_jobs=50)]: Done 996 tasks      | elapsed:    4.5s\n",
      "[Parallel(n_jobs=50)]: Done 1663 tasks      | elapsed:   12.9s\n",
      "[Parallel(n_jobs=50)]: Done 2108 tasks      | elapsed:   22.0s\n",
      "[Parallel(n_jobs=50)]: Done 2635 tasks      | elapsed:   32.8s\n",
      "[Parallel(n_jobs=50)]: Done 3242 tasks      | elapsed:   56.7s\n",
      "[Parallel(n_jobs=50)]: Done 3931 tasks      | elapsed:  1.4min\n",
      "[Parallel(n_jobs=50)]: Done 4700 tasks      | elapsed:  1.5min\n",
      "[Parallel(n_jobs=50)]: Done 5551 tasks      | elapsed:  1.6min\n",
      "[Parallel(n_jobs=50)]: Done 6482 tasks      | elapsed:  1.9min\n",
      "[Parallel(n_jobs=50)]: Done 7495 tasks      | elapsed:  2.5min\n",
      "[Parallel(n_jobs=50)]: Done 8588 tasks      | elapsed:  2.9min\n",
      "[Parallel(n_jobs=50)]: Done 9763 tasks      | elapsed:  3.1min\n",
      "[Parallel(n_jobs=50)]: Done 11018 tasks      | elapsed:  3.6min\n",
      "[Parallel(n_jobs=50)]: Done 12355 tasks      | elapsed:  4.3min\n",
      "[Parallel(n_jobs=50)]: Done 13772 tasks      | elapsed:  4.5min\n",
      "[Parallel(n_jobs=50)]: Done 15271 tasks      | elapsed:  5.2min\n",
      "[Parallel(n_jobs=50)]: Done 16850 tasks      | elapsed:  5.7min\n",
      "[Parallel(n_jobs=50)]: Done 18511 tasks      | elapsed:  6.1min\n",
      "[Parallel(n_jobs=50)]: Done 20252 tasks      | elapsed:  7.0min\n",
      "[Parallel(n_jobs=50)]: Done 22075 tasks      | elapsed:  7.4min\n",
      "[Parallel(n_jobs=50)]: Done 23978 tasks      | elapsed:  8.3min\n",
      "[Parallel(n_jobs=50)]: Done 25963 tasks      | elapsed:  8.7min\n",
      "[Parallel(n_jobs=50)]: Done 28028 tasks      | elapsed:  9.7min\n",
      "[Parallel(n_jobs=50)]: Done 30175 tasks      | elapsed: 10.1min\n",
      "[Parallel(n_jobs=50)]: Done 32402 tasks      | elapsed: 11.0min\n",
      "[Parallel(n_jobs=50)]: Done 34711 tasks      | elapsed: 11.7min\n",
      "[Parallel(n_jobs=50)]: Done 37100 tasks      | elapsed: 12.4min\n",
      "[Parallel(n_jobs=50)]: Done 39571 tasks      | elapsed: 13.2min\n",
      "[Parallel(n_jobs=50)]: Done 42122 tasks      | elapsed: 13.7min\n",
      "[Parallel(n_jobs=50)]: Done 44755 tasks      | elapsed: 14.5min\n",
      "[Parallel(n_jobs=50)]: Done 47468 tasks      | elapsed: 15.4min\n",
      "[Parallel(n_jobs=50)]: Done 50263 tasks      | elapsed: 15.9min\n",
      "[Parallel(n_jobs=50)]: Done 53138 tasks      | elapsed: 16.6min\n",
      "[Parallel(n_jobs=50)]: Done 56095 tasks      | elapsed: 17.4min\n",
      "[Parallel(n_jobs=50)]: Done 59132 tasks      | elapsed: 18.2min\n",
      "[Parallel(n_jobs=50)]: Done 62251 tasks      | elapsed: 18.8min\n",
      "[Parallel(n_jobs=50)]: Done 65450 tasks      | elapsed: 19.5min\n",
      "[Parallel(n_jobs=50)]: Done 68731 tasks      | elapsed: 20.3min\n",
      "[Parallel(n_jobs=50)]: Done 72092 tasks      | elapsed: 21.2min\n",
      "[Parallel(n_jobs=50)]: Done 75535 tasks      | elapsed: 22.8min\n",
      "[Parallel(n_jobs=50)]: Done 79058 tasks      | elapsed: 24.2min\n",
      "[Parallel(n_jobs=50)]: Done 82663 tasks      | elapsed: 25.5min\n",
      "[Parallel(n_jobs=50)]: Done 86348 tasks      | elapsed: 26.9min\n",
      "[Parallel(n_jobs=50)]: Done 90115 tasks      | elapsed: 28.3min\n",
      "[Parallel(n_jobs=50)]: Done 93962 tasks      | elapsed: 29.7min\n",
      "[Parallel(n_jobs=50)]: Done 97891 tasks      | elapsed: 31.2min\n",
      "[Parallel(n_jobs=50)]: Done 101900 tasks      | elapsed: 32.6min\n",
      "[Parallel(n_jobs=50)]: Done 105991 tasks      | elapsed: 34.1min\n",
      "[Parallel(n_jobs=50)]: Done 110162 tasks      | elapsed: 35.4min\n",
      "[Parallel(n_jobs=50)]: Done 114415 tasks      | elapsed: 36.6min\n",
      "[Parallel(n_jobs=50)]: Done 118748 tasks      | elapsed: 37.8min\n",
      "[Parallel(n_jobs=50)]: Done 123163 tasks      | elapsed: 39.1min\n",
      "[Parallel(n_jobs=50)]: Done 127658 tasks      | elapsed: 40.1min\n",
      "[Parallel(n_jobs=50)]: Done 132235 tasks      | elapsed: 41.1min\n",
      "[Parallel(n_jobs=50)]: Done 136892 tasks      | elapsed: 42.2min\n",
      "[Parallel(n_jobs=50)]: Done 141631 tasks      | elapsed: 43.3min\n",
      "[Parallel(n_jobs=50)]: Done 143100 out of 143100 | elapsed: 43.9min finished\n"
     ]
    },
    {
     "data": {
      "text/plain": [
       "GridSearchCV(cv=ShuffleSplit(n_splits=1325, random_state=42, test_size=0.2, train_size=None),\n",
       "             error_score=nan,\n",
       "             estimator=RandomForestRegressor(bootstrap=True, ccp_alpha=0.0,\n",
       "                                             criterion='mse', max_depth=None,\n",
       "                                             max_features='auto',\n",
       "                                             max_leaf_nodes=None,\n",
       "                                             max_samples=None,\n",
       "                                             min_impurity_decrease=0.0,\n",
       "                                             min_impurity_split=None,\n",
       "                                             min_samples_leaf=1,\n",
       "                                             min_samples_split=2,\n",
       "                                             min_we...\n",
       "                                             oob_score=False, random_state=None,\n",
       "                                             verbose=0, warm_start=False),\n",
       "             iid='deprecated', n_jobs=50,\n",
       "             param_grid={'criterion': ['mse'], 'max_depth': [10, 21],\n",
       "                         'max_features': ['auto', 'sqrt'],\n",
       "                         'min_samples_leaf': [2, 4, 8],\n",
       "                         'min_samples_split': [3, 6, 9],\n",
       "                         'n_estimators': [10, 50, 100], 'random_state': [42]},\n",
       "             pre_dispatch='2*n_jobs', refit=True, return_train_score=False,\n",
       "             scoring=None, verbose=2)"
      ]
     },
     "execution_count": 30,
     "metadata": {},
     "output_type": "execute_result"
    }
   ],
   "source": [
    "regressor_g.fit(g_x_train, g_y_train)\n",
    "regressor_a.fit(a_x_train, a_y_train)"
   ]
  },
  {
   "cell_type": "markdown",
   "metadata": {},
   "source": [
    "# Testing"
   ]
  },
  {
   "cell_type": "code",
   "execution_count": 45,
   "metadata": {},
   "outputs": [],
   "source": [
    "regressor_g_best_est = regressor_g.best_estimator_\n",
    "regressor_a_best_est = regressor_a.best_estimator_"
   ]
  },
  {
   "cell_type": "code",
   "execution_count": 46,
   "metadata": {},
   "outputs": [
    {
     "data": {
      "text/plain": [
       "0.00016762060546507158"
      ]
     },
     "execution_count": 46,
     "metadata": {},
     "output_type": "execute_result"
    }
   ],
   "source": [
    "g_y_predict = regressor_g_best_est.predict(g_x_test)\n",
    "mean_squared_error(g_y_test, g_y_predict)"
   ]
  },
  {
   "cell_type": "code",
   "execution_count": 47,
   "metadata": {},
   "outputs": [
    {
     "data": {
      "text/plain": [
       "0.00016189402244890286"
      ]
     },
     "execution_count": 47,
     "metadata": {},
     "output_type": "execute_result"
    }
   ],
   "source": [
    "a_y_predict = regressor_a_best_est.predict(a_x_test)\n",
    "mean_squared_error(a_y_test, a_y_predict)"
   ]
  },
  {
   "cell_type": "markdown",
   "metadata": {},
   "source": [
    "# Save Model"
   ]
  },
  {
   "cell_type": "code",
   "execution_count": 48,
   "metadata": {},
   "outputs": [],
   "source": [
    "with open(\"gamma_model.pkl\", \"wb\") as f:\n",
    "    dump(regressor_g_best_est, f)\n",
    "with open(\"alpha_model.pkl\", \"wb\") as f:\n",
    "    dump(regressor_a_best_est, f)"
   ]
  },
  {
   "cell_type": "code",
   "execution_count": null,
   "metadata": {},
   "outputs": [],
   "source": []
  }
 ],
 "metadata": {
  "kernelspec": {
   "display_name": "Python 3",
   "language": "python",
   "name": "python3"
  },
  "language_info": {
   "codemirror_mode": {
    "name": "ipython",
    "version": 3
   },
   "file_extension": ".py",
   "mimetype": "text/x-python",
   "name": "python",
   "nbconvert_exporter": "python",
   "pygments_lexer": "ipython3",
   "version": "3.6.8"
  }
 },
 "nbformat": 4,
 "nbformat_minor": 2
}
